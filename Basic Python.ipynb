{
 "cells": [
  {
   "cell_type": "markdown",
   "id": "21ab2ea2",
   "metadata": {},
   "source": [
    "# Exercise 1: Prime Numbers\n",
    "\n",
    "Write a Python program that checks whether a given number is prime or not. A prime number is a natural number greater than 1 that has no positive divisors other than 1 and itself.Write a Python program that checks whether a given number is prime or not. A prime number is a natural number greater than 1 that has no positive divisors other than 1 and itself."
   ]
  },
  {
   "cell_type": "code",
   "execution_count": 1,
   "id": "0464e4f5",
   "metadata": {},
   "outputs": [],
   "source": [
    "from math import sqrt"
   ]
  },
  {
   "cell_type": "code",
   "execution_count": 2,
   "id": "1812ca94",
   "metadata": {},
   "outputs": [
    {
     "name": "stdout",
     "output_type": "stream",
     "text": [
      "Enter a number: 8\n",
      "8 is not a prime number\n"
     ]
    }
   ],
   "source": [
    "# To get a number input from the user\n",
    "num = int(input(\"Enter a number: \"))\n",
    "\n",
    "# Define a flag variable\n",
    "flag = False\n",
    "\n",
    "# Check if the number input is natural\n",
    "if num > 1:\n",
    "    # Check for factors\n",
    "    for i in range(2, num):\n",
    "        if (num%i == 0):\n",
    "            # If factor is found, flag set to True\n",
    "            flag = True\n",
    "            break\n",
    "            \n",
    "    # Check whether flag is True\n",
    "    if flag:\n",
    "        print(num, \"is not a prime number\")\n",
    "    else:\n",
    "        print(num, \"is a prime number\")"
   ]
  },
  {
   "cell_type": "markdown",
   "id": "0dd938b3",
   "metadata": {},
   "source": [
    "# Exercise 2: Product of Random Numbers\n",
    "\n",
    "Develop a Python program that generates two random numbers and asks the user to enter the product of these numbers. The program should then check if the user's answer is correct and display an appropriate message."
   ]
  },
  {
   "cell_type": "code",
   "execution_count": 3,
   "id": "edbf7822",
   "metadata": {},
   "outputs": [],
   "source": [
    "import random"
   ]
  },
  {
   "cell_type": "code",
   "execution_count": 4,
   "id": "ed7bf3b5",
   "metadata": {},
   "outputs": [
    {
     "name": "stdout",
     "output_type": "stream",
     "text": [
      "First number:  91\n",
      "Second number:  59\n",
      "Enter the expected result: 450\n",
      "User has provided the incorrect answer, the product is:  5369\n"
     ]
    }
   ],
   "source": [
    "# To generate the two random numbers between 0 to 100\n",
    "num1 = random.randint(0,100)\n",
    "print(\"First number: \", num1)\n",
    "num2 = random.randint(0,100)\n",
    "print(\"Second number: \", num2)\n",
    "\n",
    "# Calculating the product\n",
    "result = num1 * num2\n",
    "\n",
    "# To get user result\n",
    "userresult = int(input(\"Enter the expected result: \"))\n",
    "\n",
    "# To check if result entered by user matches the calculated result\n",
    "if result == userresult:\n",
    "    print(\"User has provided the correct answer\")\n",
    "else:\n",
    "    print(\"User has provided the incorrect answer, the product is: \", result)"
   ]
  },
  {
   "cell_type": "markdown",
   "id": "12832417",
   "metadata": {},
   "source": [
    "# Exercise 3: Squares of Even/Odd Numbers\n",
    "\n",
    "Create a Python script that prints the squares of all even or odd numbers within the range of 100 to 200. Choose either even or odd numbers and document your choice in the code."
   ]
  },
  {
   "cell_type": "code",
   "execution_count": 5,
   "id": "b6ef24f7",
   "metadata": {},
   "outputs": [],
   "source": [
    "import math"
   ]
  },
  {
   "cell_type": "code",
   "execution_count": 6,
   "id": "ad9fd5b6",
   "metadata": {},
   "outputs": [
    {
     "name": "stdout",
     "output_type": "stream",
     "text": [
      "Square of 101 is: 10201\n",
      "Square of 103 is: 10609\n",
      "Square of 105 is: 11025\n",
      "Square of 107 is: 11449\n",
      "Square of 109 is: 11881\n",
      "Square of 111 is: 12321\n",
      "Square of 113 is: 12769\n",
      "Square of 115 is: 13225\n",
      "Square of 117 is: 13689\n",
      "Square of 119 is: 14161\n",
      "Square of 121 is: 14641\n",
      "Square of 123 is: 15129\n",
      "Square of 125 is: 15625\n",
      "Square of 127 is: 16129\n",
      "Square of 129 is: 16641\n",
      "Square of 131 is: 17161\n",
      "Square of 133 is: 17689\n",
      "Square of 135 is: 18225\n",
      "Square of 137 is: 18769\n",
      "Square of 139 is: 19321\n",
      "Square of 141 is: 19881\n",
      "Square of 143 is: 20449\n",
      "Square of 145 is: 21025\n",
      "Square of 147 is: 21609\n",
      "Square of 149 is: 22201\n",
      "Square of 151 is: 22801\n",
      "Square of 153 is: 23409\n",
      "Square of 155 is: 24025\n",
      "Square of 157 is: 24649\n",
      "Square of 159 is: 25281\n",
      "Square of 161 is: 25921\n",
      "Square of 163 is: 26569\n",
      "Square of 165 is: 27225\n",
      "Square of 167 is: 27889\n",
      "Square of 169 is: 28561\n",
      "Square of 171 is: 29241\n",
      "Square of 173 is: 29929\n",
      "Square of 175 is: 30625\n",
      "Square of 177 is: 31329\n",
      "Square of 179 is: 32041\n",
      "Square of 181 is: 32761\n",
      "Square of 183 is: 33489\n",
      "Square of 185 is: 34225\n",
      "Square of 187 is: 34969\n",
      "Square of 189 is: 35721\n",
      "Square of 191 is: 36481\n",
      "Square of 193 is: 37249\n",
      "Square of 195 is: 38025\n",
      "Square of 197 is: 38809\n",
      "Square of 199 is: 39601\n"
     ]
    }
   ],
   "source": [
    "# Calculating the squares of all odd numbers between 100 to 200, starting with 101\n",
    "num = 100\n",
    "\n",
    "# Keeping range as 201 instead of 200 as we want to include the check for the value 200\n",
    "for i in range (num, 201):\n",
    "    # Checking whether the number is odd\n",
    "    if (num%2 != 0):\n",
    "        # Printing the square of the number\n",
    "        print(\"Square of\", num, \"is:\", int(math.pow(num, 2)))\n",
    "    num = num + 1"
   ]
  },
  {
   "cell_type": "markdown",
   "id": "b08a7618",
   "metadata": {},
   "source": [
    "# Exercise 4: Word counter\n",
    "\n",
    "Write a program to count the number of words in a given text.\n",
    "\n",
    "Example:\n",
    "input_text = \"This is a sample text. This text will be used to demonstrate the word counter.\"\n",
    "\n",
    "Expected output:\n",
    "'This': 2 \n",
    "'is': 1\n",
    "'a': 1\n",
    "'sample': 1\n",
    "'text.': 1"
   ]
  },
  {
   "cell_type": "code",
   "execution_count": 7,
   "id": "9e43eb23",
   "metadata": {},
   "outputs": [
    {
     "name": "stdout",
     "output_type": "stream",
     "text": [
      "Please enter the text: It is a pleasure to meet you.\n",
      "The number of words in the text are : 7\n"
     ]
    }
   ],
   "source": [
    "# To get the user input text\n",
    "text = input(\"Please enter the text: \")\n",
    "\n",
    "#To count the number of words\n",
    "count = len(text.split())\n",
    "\n",
    "#To print the number of words\n",
    "print (\"The number of words in the text are :\", count)"
   ]
  },
  {
   "cell_type": "markdown",
   "id": "31c85a95",
   "metadata": {},
   "source": [
    "# Exercise 5: Check for Palindrome\n",
    "\n",
    "Write a Python function called is_palindrome that takes a string as input and returns True if the string is a palindrome, and False otherwise. A palindrome is a word, phrase, number, or other sequence of characters that reads the same forward and backward, ignoring spaces, punctuation, and capitalization.\n",
    "\n",
    "Example:\n",
    "Input: \"racecar\"\n",
    "\n",
    "Expected Output: True"
   ]
  },
  {
   "cell_type": "code",
   "execution_count": 8,
   "id": "6e694d4e",
   "metadata": {},
   "outputs": [
    {
     "name": "stdout",
     "output_type": "stream",
     "text": [
      "Enter a string: nitin\n",
      "The string is a palindrome.\n"
     ]
    }
   ],
   "source": [
    "# Defining the function to check whether a given string is a Palindrome\n",
    "def isPalindrome(string):\n",
    "    # Comparing the reversed string with the original string\n",
    "    if (string == string[::-1]):\n",
    "        return \"The string is a palindrome.\" \n",
    "    else:\n",
    "        return \"The string is not a palindrome.\" \n",
    "\n",
    "# Enter input string\n",
    "string = input(\"Enter a string: \")\n",
    "\n",
    "# Calling the function\n",
    "print(isPalindrome(string))"
   ]
  }
 ],
 "metadata": {
  "kernelspec": {
   "display_name": "Python 3 (ipykernel)",
   "language": "python",
   "name": "python3"
  },
  "language_info": {
   "codemirror_mode": {
    "name": "ipython",
    "version": 3
   },
   "file_extension": ".py",
   "mimetype": "text/x-python",
   "name": "python",
   "nbconvert_exporter": "python",
   "pygments_lexer": "ipython3",
   "version": "3.11.5"
  }
 },
 "nbformat": 4,
 "nbformat_minor": 5
}
