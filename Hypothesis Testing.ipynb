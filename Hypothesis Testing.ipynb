{
 "cells": [
  {
   "cell_type": "markdown",
   "id": "5dc06b11",
   "metadata": {},
   "source": [
    "# Hypothesis Testing"
   ]
  },
  {
   "cell_type": "markdown",
   "id": "98c3fde7",
   "metadata": {},
   "source": [
    "# Task 1: State the Hypotheses statement\n",
    "Based on the problem statement and the objective to investigate whether the observed weekly operating costs are higher than the theoretical model, we can state the hypotheses as follows:\n",
    "\n",
    "Null Hypothesis (H₀): 𝑊 ≤ 1000 + 5𝑋\n",
    "Alternative Hypothesis (H₁): 𝑊 > 1000 + 5𝑋"
   ]
  },
  {
   "cell_type": "markdown",
   "id": "0a6157ba",
   "metadata": {},
   "source": [
    "# Task 2: Calculate the Test Statistic:\n",
    "\n",
    "Use the following formula to calculate the test statistic (t):\n",
    "where:\n",
    "1. ˉxˉ = sample mean weekly cost (Rs. 3,050)\n",
    "2. μ = theoretical mean weekly cost according to the cost model (W = $1,000 + $5X for X = 600 units)\n",
    "3. σ = 5*25 units\n",
    "4. n = sample size (25 restaurants)"
   ]
  },
  {
   "cell_type": "code",
   "execution_count": 1,
   "id": "1167313a",
   "metadata": {},
   "outputs": [
    {
     "name": "stdout",
     "output_type": "stream",
     "text": [
      "Sample Mean (x): 3050\n",
      "Theoretical Mean (μ): 4000\n",
      "Theoretical Standard Deviation (σ): 125\n",
      "Sample Size (n): 25\n",
      "Test Statistic (t): -38.0\n"
     ]
    }
   ],
   "source": [
    "import math\n",
    "\n",
    "# Given data\n",
    "sample_mean = 3050  # sample mean weekly cost in Rs.\n",
    "theoretical_mean = 1000 + 5 * 600  # theoretical mean weekly cost in Rs.\n",
    "theoretical_std_dev = 5 * 25  # theoretical standard deviation of weekly costs in Rs.\n",
    "n = 25  # sample size\n",
    "\n",
    "# Calculate the test statistic (t-statistic)\n",
    "t_statistic = (sample_mean - theoretical_mean) / (theoretical_std_dev / math.sqrt(n))\n",
    "\n",
    "# Print the results\n",
    "print(f\"Sample Mean (x): {sample_mean}\")\n",
    "print(f\"Theoretical Mean (μ): {theoretical_mean}\")\n",
    "print(f\"Theoretical Standard Deviation (σ): {theoretical_std_dev}\")\n",
    "print(f\"Sample Size (n): {n}\")\n",
    "print(f\"Test Statistic (t): {t_statistic}\")"
   ]
  },
  {
   "cell_type": "markdown",
   "id": "1eccc534",
   "metadata": {},
   "source": [
    "# Task 3: Determine the Critical Value:\n",
    "\n",
    "Using the alpha level of 5% (α = 0.05), determine the critical value from the standard normal (Z) distribution table."
   ]
  },
  {
   "cell_type": "code",
   "execution_count": 3,
   "id": "ffb97edb",
   "metadata": {},
   "outputs": [
    {
     "name": "stdout",
     "output_type": "stream",
     "text": [
      "Critical Value (Z): 1.64\n"
     ]
    }
   ],
   "source": [
    "from scipy.stats import norm\n",
    "\n",
    "# Alpha level (significance level)\n",
    "alpha = 0.05\n",
    "\n",
    "# Find the critical value (Z-score) for one-tailed test (right-tailed)\n",
    "critical_value = norm.ppf(1 - alpha)\n",
    "\n",
    "# Print the critical value\n",
    "print(f\"Critical Value (Z): {critical_value:.2f}\")"
   ]
  },
  {
   "cell_type": "markdown",
   "id": "32241626",
   "metadata": {},
   "source": [
    "# Task 4: Make a Decision\n",
    "Compare the test statistic with the critical value to decide whether to reject the null hypothesis.\n",
    "\n",
    "To decide whether to reject the null hypothesis based on the test statistic and critical value provided:\n",
    "1. Test Statistic: 𝑡 = −38.0\n",
    "2. Critical Value: 𝑍 = 1.64\n",
    "\n",
    "1. Null Hypothesis (H₀): The null hypothesis typically states that there is no significant difference between the observed \n",
    "    sample mean and the theoretical mean.\n",
    "2. Decision Rule: For a two-tailed hypothesis test (testing if the mean is significantly different from the theoretical mean), \n",
    "    we compare the absolute value of the test statistic to the critical value.\n",
    "3. Comparison: Since the test statistic 𝑡 = −38.0 is much smaller (in absolute terms) than the critical value 𝑍 = 1.64, we can \n",
    "    conclude that ∣−38.0∣ > 1.64.\n",
    "4. Decision: Based on this comparison, ∣−38.0∣ > 1.64, which means the test statistic falls far outside the range of values that \n",
    "    would be expected under the null hypothesis. Therefore, we reject the null hypothesis (H₀).\n",
    "\n",
    "##### Conclusion:\n",
    "\n",
    "Reject the Null Hypothesis: The test statistic of -38.0 is significantly lower than the critical value of 1.64. This suggests strong evidence against the null hypothesis and indicates that the observed mean weekly operating costs are significantly different (lower in this case) than predicted by the theoretical model.\n",
    "\n",
    "In summary, based on the test statistic and critical value, we reject the null hypothesis at the chosen significance level, \n",
    "implying that there is a significant difference between the observed data and the expected values under the null hypothesis."
   ]
  },
  {
   "cell_type": "markdown",
   "id": "d9e93c92",
   "metadata": {},
   "source": [
    "# Task 5: Conclusion\n",
    "Based on the decision in step 4, conclude whether there is strong evidence to support the restaurant owners' claim that the weekly operating costs are higher than the model suggests.\n",
    "\n",
    "Based on the statistical analysis and the comparison between the test statistic and critical value, there is strong evidence to \n",
    "support the restaurant owners' claim that the weekly operating costs are higher than the model predicts. The test statistic of \n",
    "-38.0 indicates a significant deviation from the expected costs under the null hypothesis, leading to the rejection of the null \n",
    "hypothesis. Therefore, the observed data suggest that the actual weekly operating costs are indeed higher than those predicted \n",
    "by the theoretical model."
   ]
  },
  {
   "cell_type": "markdown",
   "id": "bc0410d1",
   "metadata": {},
   "source": [
    "# Chi-square Test"
   ]
  },
  {
   "cell_type": "markdown",
   "id": "c25dbcc1",
   "metadata": {},
   "source": [
    "# Task 1: State the Hypotheses"
   ]
  },
  {
   "cell_type": "markdown",
   "id": "6cd184c0",
   "metadata": {},
   "source": [
    "To determine if there is a significant association between the type of smart home device purchased (Smart Thermostats vs. Smart \n",
    "Lights) and the customer satisfaction level, we can use a Chi-Square test for independence.\n",
    "\n",
    "Null Hypothesis (H₀):\n",
    "There is no association between the type of smart home device purchased and the customer satisfaction level.\n",
    "\n",
    "Alternative Hypothesis (H₁):\n",
    "There is an association between the type of smart home device purchased and the customer satisfaction level."
   ]
  },
  {
   "cell_type": "markdown",
   "id": "0eab210b",
   "metadata": {},
   "source": [
    "# Task 2: Compute the Chi-Square Statistic"
   ]
  },
  {
   "cell_type": "code",
   "execution_count": 6,
   "id": "3ba22400",
   "metadata": {},
   "outputs": [
    {
     "name": "stdout",
     "output_type": "stream",
     "text": [
      "Chi-Square Statistic: 5.638227513227513\n",
      "Degrees of Freedom: 4\n",
      "Expected Frequencies:\n",
      " [[ 48.  72.]\n",
      " [ 72. 108.]\n",
      " [ 60.  90.]\n",
      " [ 32.  48.]\n",
      " [ 28.  42.]]\n"
     ]
    }
   ],
   "source": [
    "import numpy as np\n",
    "\n",
    "# Define the observed contingency table\n",
    "observed = np.array([\n",
    "    [50, 70],\n",
    "    [80, 100],\n",
    "    [60, 90],\n",
    "    [30, 50],\n",
    "    [20, 50]\n",
    "])\n",
    "\n",
    "# Compute row and column totals\n",
    "row_totals = np.sum(observed, axis=1)\n",
    "col_totals = np.sum(observed, axis=0)\n",
    "total = np.sum(observed)\n",
    "\n",
    "# Compute expected frequencies under independence assumption\n",
    "expected = np.outer(row_totals, col_totals) / total\n",
    "\n",
    "# Compute the Chi-Square statistic\n",
    "chi2 = np.sum((observed - expected)**2 / expected)\n",
    "\n",
    "# Degrees of freedom calculation\n",
    "# degrees_of_freedom = (number of rows - 1) * (number of columns - 1)\n",
    "rows, cols = observed.shape\n",
    "dof = (rows - 1) * (cols - 1)\n",
    "\n",
    "# Print the results\n",
    "print(\"Chi-Square Statistic:\", chi2)\n",
    "print(\"Degrees of Freedom:\", dof)\n",
    "print(\"Expected Frequencies:\\n\", expected)"
   ]
  },
  {
   "cell_type": "markdown",
   "id": "740a1ab1",
   "metadata": {},
   "source": [
    "# Task 3: Determine the Critical Value\n",
    "\n",
    "Using the significance level (alpha) of 0.05 and the degrees of freedom (which is the number of categories minus 1)"
   ]
  },
  {
   "cell_type": "code",
   "execution_count": 8,
   "id": "135f10c9",
   "metadata": {},
   "outputs": [
    {
     "name": "stdout",
     "output_type": "stream",
     "text": [
      "Critical Value: 9.487729036781154\n"
     ]
    }
   ],
   "source": [
    "import scipy.stats as stats\n",
    "\n",
    "# Given significance level (alpha) and degrees of freedom (df)\n",
    "alpha = 0.05\n",
    "df = dof  # Degrees of freedom calculated earlier\n",
    "\n",
    "# Determine the critical value from the Chi-Square distribution\n",
    "critical_value = stats.chi2.ppf(1 - alpha, df)\n",
    "\n",
    "# Print the critical value\n",
    "print(\"Critical Value:\", critical_value)"
   ]
  },
  {
   "cell_type": "markdown",
   "id": "41f74861",
   "metadata": {},
   "source": [
    "# Task 4: Make a Decision\n",
    "Compare the Chi-Square statistic with the critical value to decide whether to reject the null hypothesis.\n",
    "\n",
    "From our calculations:\n",
    "1. Chi-Square statistic: 5.638227513227513\n",
    "2. Critical value: 9.487729036781154\n",
    "\n",
    "#### Since 5.638227513227513 ≤ 9.487729036781154:\n",
    "\n",
    "##### Decision:\n",
    "The Chi-Square statistic does not exceed the critical value. Therefore, we fail to reject the null hypothesis at the 0.05 significance level.\n",
    "\n",
    "##### Conclusion:\n",
    "\n",
    "Based on the Chi-Square test results, there is not enough evidence to conclude that there is a significant association between \n",
    "the type of smart home device purchased (Smart Thermostats vs. Smart Lights) and the customer satisfaction level."
   ]
  }
 ],
 "metadata": {
  "kernelspec": {
   "display_name": "Python 3 (ipykernel)",
   "language": "python",
   "name": "python3"
  },
  "language_info": {
   "codemirror_mode": {
    "name": "ipython",
    "version": 3
   },
   "file_extension": ".py",
   "mimetype": "text/x-python",
   "name": "python",
   "nbconvert_exporter": "python",
   "pygments_lexer": "ipython3",
   "version": "3.11.5"
  }
 },
 "nbformat": 4,
 "nbformat_minor": 5
}
