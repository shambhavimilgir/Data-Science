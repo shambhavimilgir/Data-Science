{
 "cells": [
  {
   "cell_type": "markdown",
   "id": "1eafc6cf",
   "metadata": {},
   "source": [
    "### Task 1: Build 99% Confidence Interval Using Sample Standard Deviation\n",
    "\n",
    "#### Steps to Build 99% Confidence Interval Using Sample Standard Deviation:\n",
    "\n",
    "1. Import necessary libraries: We will use numpy and scipy.stats for calculations related to mean, standard deviation, and t-distribution.\n",
    "2. Data Preparation: Input the durability data into a numpy array.\n",
    "3. Calculate Sample Statistics:\n",
    "    1. Compute the sample mean(𝑥).\n",
    "    2. Compute the sample standard deviation 𝑠.\n",
    "    3. Determine the degrees of freedom.\n",
    "4. Find the Critical Value (t-score): Use the t-distribution to find the critical value corresponding to a 99% confidence level and 𝑛−1 degrees of freedom.\n",
    "5. Calculate Margin of Error: Compute the margin of error using the formula 𝐸=𝑡∗𝑠/sq.root(𝑛), where 𝑡 is the critical value and 𝑛 is the sample size.\n",
    "6. Construct Confidence Interval: Combine the sample mean and margin of error to form the confidence interval 𝑥±𝐸.\n",
    "    \n",
    "#### Rationale Behind Using the t-Distribution:\n",
    "\n",
    "1. The population standard deviation (𝜎) is unknown and estimated from the sample standard deviation (𝑠).\n",
    "2. The sample size 𝑛=15 is relatively small, making the t-distribution appropriate for calculating confidence intervals.\n",
    "3. Using the t-distribution accounts for the uncertainty introduced by using the sample standard deviation instead of the population standard deviation."
   ]
  },
  {
   "cell_type": "code",
   "execution_count": 3,
   "id": "55a487fe",
   "metadata": {
    "scrolled": true
   },
   "outputs": [
    {
     "name": "stdout",
     "output_type": "stream",
     "text": [
      "Mean Durability: 1.2387\n",
      "Sample Standard Deviation: 0.1932\n",
      "Critical Value (t-score): 2.9768\n",
      "Margin of Error: 0.1485\n",
      "99% Confidence Interval for Mean Durability: (1.0902, 1.3871)\n"
     ]
    }
   ],
   "source": [
    "import numpy as np\n",
    "from scipy import stats\n",
    "\n",
    "# Durability data\n",
    "durability = np.array([1.13, 1.55, 1.43, 0.92, 1.25, 1.36, 1.32, 0.85, 1.07, 1.48, 1.20, 1.33, 1.18, 1.22, 1.29])\n",
    "\n",
    "# Sample size\n",
    "n = len(durability)\n",
    "\n",
    "# Calculate sample mean\n",
    "mean_durability = np.mean(durability)\n",
    "\n",
    "# Calculate sample standard deviation (unbiased estimator)\n",
    "std_dev = np.std(durability, ddof=1)\n",
    "\n",
    "# Degrees of freedom\n",
    "df = n - 1\n",
    "\n",
    "# Calculate the critical value (t-score) for 99% confidence level and df degrees of freedom\n",
    "t_score = stats.t.ppf(0.995, df)  # 0.995 because we want 99% confidence level (area under the tails is 0.01)\n",
    "\n",
    "# Calculate margin of error\n",
    "margin_of_error = t_score * (std_dev / np.sqrt(n))\n",
    "\n",
    "# Construct the confidence interval\n",
    "confidence_interval = (mean_durability - margin_of_error, mean_durability + margin_of_error)\n",
    "\n",
    "# Print results\n",
    "print(f\"Mean Durability: {mean_durability:.4f}\")\n",
    "print(f\"Sample Standard Deviation: {std_dev:.4f}\")\n",
    "print(f\"Critical Value (t-score): {t_score:.4f}\")\n",
    "print(f\"Margin of Error: {margin_of_error:.4f}\")\n",
    "print(f\"99% Confidence Interval for Mean Durability: ({confidence_interval[0]:.4f}, {confidence_interval[1]:.4f})\")"
   ]
  },
  {
   "cell_type": "markdown",
   "id": "a4327f28",
   "metadata": {},
   "source": [
    "# Task 2: Build 99% Confidence Interval Using Known Population Standard Deviation\n",
    "\n",
    "#### Steps to Build 99% Confidence Interval Using Known Population Standard Deviation:\n",
    "\n",
    "1. Import necessary libraries:We will use numpy for calculations related to mean and standard deviation.\n",
    "2. Data Preparation: Input the durability data into a numpy array.\n",
    "3. Calculate Sample Statistics: Compute the sample mean(𝑥).\n",
    "4. Determine Critical Value: Use the z-score corresponding to a 99% confidence level. For a 99% confidence level, the critical \n",
    "    value 𝑧 is approximately 2.576 (derived from the standard normal distribution).\n",
    "5. Calculate Margin of Error: Compute the margin of error using the formula 𝐸=𝑧∗𝜎/sq.root(𝑛), where𝜎 is the population standard \n",
    "    deviation and 𝑛 is the sample size.\n",
    "6. Construct Confidence Interval: Combine the sample mean and margin of error to form the confidence interval 𝑥±𝐸."
   ]
  },
  {
   "cell_type": "code",
   "execution_count": 4,
   "id": "1a945540",
   "metadata": {},
   "outputs": [
    {
     "name": "stdout",
     "output_type": "stream",
     "text": [
      "Mean Durability: 1.2387 million characters\n",
      "Population Standard Deviation: 0.2 million characters\n",
      "Z-score (for 99% confidence level): 2.576\n",
      "Margin of Error: 0.1330 million characters\n",
      "99% Confidence Interval for Mean Durability: (1.1056 million characters, 1.3717 million characters)\n"
     ]
    }
   ],
   "source": [
    "# Durability data\n",
    "durability = np.array([1.13, 1.55, 1.43, 0.92, 1.25, 1.36, 1.32, 0.85, 1.07, 1.48, 1.20, 1.33, 1.18, 1.22, 1.29])\n",
    "\n",
    "# Sample size\n",
    "n = len(durability)\n",
    "\n",
    "# Sample mean\n",
    "mean_durability = np.mean(durability)\n",
    "\n",
    "# Known population standard deviation\n",
    "population_std_dev = 0.2  # in million characters\n",
    "\n",
    "# Z-score for 99% confidence level\n",
    "z_score = 2.576  # from standard normal distribution for 99% confidence level\n",
    "\n",
    "# Margin of error\n",
    "margin_of_error = z_score * (population_std_dev / np.sqrt(n))\n",
    "\n",
    "# Confidence interval\n",
    "confidence_interval = (mean_durability - margin_of_error, mean_durability + margin_of_error)\n",
    "\n",
    "# Print results\n",
    "print(f\"Mean Durability: {mean_durability:.4f} million characters\")\n",
    "print(f\"Population Standard Deviation: {population_std_dev} million characters\")\n",
    "print(f\"Z-score (for 99% confidence level): {z_score:.3f}\")\n",
    "print(f\"Margin of Error: {margin_of_error:.4f} million characters\")\n",
    "print(f\"99% Confidence Interval for Mean Durability: ({confidence_interval[0]:.4f} million characters, {confidence_interval[1]:.4f} million characters)\")"
   ]
  }
 ],
 "metadata": {
  "kernelspec": {
   "display_name": "Python 3 (ipykernel)",
   "language": "python",
   "name": "python3"
  },
  "language_info": {
   "codemirror_mode": {
    "name": "ipython",
    "version": 3
   },
   "file_extension": ".py",
   "mimetype": "text/x-python",
   "name": "python",
   "nbconvert_exporter": "python",
   "pygments_lexer": "ipython3",
   "version": "3.11.5"
  }
 },
 "nbformat": 4,
 "nbformat_minor": 5
}
